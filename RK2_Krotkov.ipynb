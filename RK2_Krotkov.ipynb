{
  "nbformat": 4,
  "nbformat_minor": 0,
  "metadata": {
    "colab": {
      "name": "RK2-Krotkov.ipynb",
      "provenance": [],
      "collapsed_sections": []
    },
    "kernelspec": {
      "name": "python3",
      "display_name": "Python 3"
    },
    "language_info": {
      "name": "python"
    }
  },
  "cells": [
    {
      "cell_type": "markdown",
      "metadata": {
        "id": "IyAM8dkcxbL0"
      },
      "source": [
        "Кротков Александр Егорович, ИУ5-22м.\n",
        "РК2\n"
      ]
    },
    {
      "cell_type": "code",
      "metadata": {
        "id": "l5eG2tyYxcMF"
      },
      "source": [
        "import numpy as np\n",
        "import pandas as pd\n",
        "from typing import Dict, Tuple\n",
        "from sklearn.feature_extraction.text import CountVectorizer, TfidfVectorizer\n",
        "from sklearn.model_selection import GridSearchCV, RandomizedSearchCV\n",
        "from sklearn.metrics import accuracy_score, balanced_accuracy_score\n",
        "from sklearn.metrics import precision_score, recall_score, f1_score, classification_report\n",
        "from sklearn.metrics import confusion_matrix\n",
        "from sklearn.model_selection import cross_val_score\n",
        "from sklearn.pipeline import Pipeline\n",
        "from sklearn.metrics import mean_absolute_error, mean_squared_error, mean_squared_log_error, median_absolute_error, r2_score \n",
        "from sklearn.metrics import roc_curve, roc_auc_score\n",
        "from sklearn.naive_bayes import ComplementNB\n",
        "from sklearn.ensemble import RandomForestClassifier\n",
        "import seaborn as sns\n",
        "from collections import Counter\n",
        "from sklearn.datasets import fetch_20newsgroups\n",
        "import matplotlib.pyplot as plt\n"
      ],
      "execution_count": 9,
      "outputs": []
    },
    {
      "cell_type": "code",
      "metadata": {
        "colab": {
          "base_uri": "https://localhost:8080/"
        },
        "id": "CqtwSWW4x01C",
        "outputId": "88c1f220-1513-4f6f-bd8d-b3357992de17"
      },
      "source": [
        "categories = [\"rec.autos\", \"rec.sport.hockey\", \"sci.crypt\", \"sci.med\", \"talk.religion.misc\"]\n",
        "newsgroups = fetch_20newsgroups(subset='train', categories=categories)\n",
        "data = newsgroups['data']"
      ],
      "execution_count": 10,
      "outputs": [
        {
          "output_type": "stream",
          "text": [
            "Downloading 20news dataset. This may take a few minutes.\n",
            "Downloading dataset from https://ndownloader.figshare.com/files/5975967 (14 MB)\n"
          ],
          "name": "stderr"
        }
      ]
    },
    {
      "cell_type": "code",
      "metadata": {
        "id": "quLPTT20zhnX"
      },
      "source": [
        "def accuracy_score_for_classes(\n",
        "    y_true: np.ndarray, \n",
        "    y_pred: np.ndarray) -> Dict[int, float]:\n",
        "    \"\"\"\n",
        "    Вычисление метрики accuracy для каждого класса\n",
        "    y_true - истинные значения классов\n",
        "    y_pred - предсказанные значения классов\n",
        "    Возвращает словарь: ключ - метка класса, \n",
        "    значение - Accuracy для данного класса\n",
        "    \"\"\"\n",
        "    # Для удобства фильтрации сформируем Pandas DataFrame \n",
        "    d = {'t': y_true, 'p': y_pred}\n",
        "    df = pd.DataFrame(data=d)\n",
        "    # Метки классов\n",
        "    classes = np.unique(y_true)\n",
        "    # Результирующий словарь\n",
        "    res = dict()\n",
        "    # Перебор меток классов\n",
        "    for c in classes:\n",
        "        # отфильтруем данные, которые соответствуют \n",
        "        # текущей метке класса в истинных значениях\n",
        "        temp_data_flt = df[df['t']==c]\n",
        "        # расчет accuracy для заданной метки класса\n",
        "        temp_acc = accuracy_score(\n",
        "            temp_data_flt['t'].values, \n",
        "            temp_data_flt['p'].values)\n",
        "        # сохранение результата в словарь\n",
        "        res[c] = temp_acc\n",
        "    return res\n",
        "\n",
        "def print_accuracy_score_for_classes(\n",
        "    y_true: np.ndarray, \n",
        "    y_pred: np.ndarray):\n",
        "    \"\"\"\n",
        "    Вывод метрики accuracy для каждого класса\n",
        "    \"\"\"\n",
        "    accs = accuracy_score_for_classes(y_true, y_pred)\n",
        "    if len(accs)>0:\n",
        "        print('Метка \\t Accuracy')\n",
        "    for i in accs:\n",
        "        print('{} \\t {}'.format(i, accs[i]))"
      ],
      "execution_count": 12,
      "outputs": []
    },
    {
      "cell_type": "markdown",
      "metadata": {
        "id": "_bmCDa6L0Ain"
      },
      "source": [
        "\n",
        "CountVectorizer и TfidfVectorizer RandomForestClassifier и Complement Naive Bayes (CNB)"
      ]
    },
    {
      "cell_type": "code",
      "metadata": {
        "colab": {
          "base_uri": "https://localhost:8080/"
        },
        "id": "_mwYxNYzz7Ga",
        "outputId": "855c68b9-395a-4ebf-ff37-662aed915792"
      },
      "source": [
        "vocabVect = CountVectorizer()\n",
        "vocabVect.fit(data)\n",
        "corpusVocab = vocabVect.vocabulary_\n",
        "print('Количество сформированных признаков - {}'.format(len(corpusVocab)))"
      ],
      "execution_count": 13,
      "outputs": [
        {
          "output_type": "stream",
          "text": [
            "Количество сформированных признаков - 42097\n"
          ],
          "name": "stdout"
        }
      ]
    },
    {
      "cell_type": "code",
      "metadata": {
        "colab": {
          "base_uri": "https://localhost:8080/"
        },
        "id": "Xl9S92y80Itd",
        "outputId": "8a17dd3f-14ea-4c6c-8317-fce617d48073"
      },
      "source": [
        "for i in list(corpusVocab)[1:10]:\n",
        "    print('{}={}'.format(i, corpusVocab[i]))"
      ],
      "execution_count": 14,
      "outputs": [
        {
          "output_type": "stream",
          "text": [
            "davec=13477\n",
            "ece=15549\n",
            "concordia=12057\n",
            "ca=10136\n",
            "dave=13470\n",
            "chu=11153\n",
            "subject=36674\n",
            "wanted=40696\n",
            "opinions=28541\n"
          ],
          "name": "stdout"
        }
      ]
    },
    {
      "cell_type": "code",
      "metadata": {
        "colab": {
          "base_uri": "https://localhost:8080/"
        },
        "id": "8rp8ShYw0Pd5",
        "outputId": "43495336-b038-464b-fb8b-732853f2d23f"
      },
      "source": [
        "test_features = vocabVect.transform(data)\n",
        "test_features"
      ],
      "execution_count": 15,
      "outputs": [
        {
          "output_type": "execute_result",
          "data": {
            "text/plain": [
              "<2760x42097 sparse matrix of type '<class 'numpy.int64'>'\n",
              "\twith 460325 stored elements in Compressed Sparse Row format>"
            ]
          },
          "metadata": {
            "tags": []
          },
          "execution_count": 15
        }
      ]
    },
    {
      "cell_type": "code",
      "metadata": {
        "colab": {
          "base_uri": "https://localhost:8080/"
        },
        "id": "blGpzGmM0UWt",
        "outputId": "22b08e05-8031-41a7-d7b9-6f5ae108d020"
      },
      "source": [
        "len(test_features.todense()[0].getA1())"
      ],
      "execution_count": 16,
      "outputs": [
        {
          "output_type": "execute_result",
          "data": {
            "text/plain": [
              "42097"
            ]
          },
          "metadata": {
            "tags": []
          },
          "execution_count": 16
        }
      ]
    },
    {
      "cell_type": "code",
      "metadata": {
        "colab": {
          "base_uri": "https://localhost:8080/"
        },
        "id": "-X--1-uP0ZdQ",
        "outputId": "e7a63264-be3e-4a95-d44e-98b4127e4369"
      },
      "source": [
        "vocabVect.get_feature_names()[42090:]"
      ],
      "execution_count": 17,
      "outputs": [
        {
          "output_type": "execute_result",
          "data": {
            "text/plain": [
              "['ère', 'ée', 'égligent', 'élangea', 'érale', 'ête', 'íålittin']"
            ]
          },
          "metadata": {
            "tags": []
          },
          "execution_count": 17
        }
      ]
    },
    {
      "cell_type": "code",
      "metadata": {
        "id": "_lHxDGss0mAq"
      },
      "source": [
        "def VectorizeAndClassify(vectorizers_list, classifiers_list):\n",
        "    for v in vectorizers_list:\n",
        "        for c in classifiers_list:\n",
        "            pipeline1 = Pipeline([(\"vectorizer\", v), (\"classifier\", c)])\n",
        "            score = cross_val_score(pipeline1, newsgroups['data'], newsgroups['target'], scoring='accuracy', cv=3).mean()\n",
        "            print('Векторизация - {}'.format(v))\n",
        "            print('Модель для классификации - {}'.format(c))\n",
        "            print('Accuracy = {}'.format(score))\n",
        "            print('===========================')"
      ],
      "execution_count": 19,
      "outputs": []
    },
    {
      "cell_type": "code",
      "metadata": {
        "colab": {
          "base_uri": "https://localhost:8080/"
        },
        "id": "tAosLejo0096",
        "outputId": "e14cb8c4-9a5f-408e-ce83-4448728ff03d"
      },
      "source": [
        "vectorizers_list = [CountVectorizer(vocabulary = corpusVocab), TfidfVectorizer(vocabulary = corpusVocab)]\n",
        "classifiers_list = [RandomForestClassifier(), ComplementNB()]\n",
        "VectorizeAndClassify(vectorizers_list, classifiers_list)"
      ],
      "execution_count": 20,
      "outputs": [
        {
          "output_type": "stream",
          "text": [
            "Векторизация - CountVectorizer(analyzer='word', binary=False, decode_error='strict',\n",
            "                dtype=<class 'numpy.int64'>, encoding='utf-8', input='content',\n",
            "                lowercase=True, max_df=1.0, max_features=None, min_df=1,\n",
            "                ngram_range=(1, 1), preprocessor=None, stop_words=None,\n",
            "                strip_accents=None, token_pattern='(?u)\\\\b\\\\w\\\\w+\\\\b',\n",
            "                tokenizer=None,\n",
            "                vocabulary={'00': 0, '000': 1, '0000': 2, '00000000': 3,\n",
            "                            '...00000001b': 6,\n",
            "                            '00000010': 7, '00000010b': 8, '00000011': 9,\n",
            "                            '00000011b': 10, '0000001200': 11, '00000100': 12,\n",
            "                            '00000100b': 13, '00000101': 14, '00000101b': 15,\n",
            "                            '00000110': 16, '00000110b': 17, '00000111': 18,\n",
            "                            '00000111b': 19, '00001000': 20, '00001000b': 21,\n",
            "                            '00001001': 22, '00001001b': 23, '00001010': 24,\n",
            "                            '00001010b': 25, '00001011': 26, '00001011b': 27,\n",
            "                            '00001100': 28, '00001100b': 29, ...})\n",
            "Модель для классификации - RandomForestClassifier(bootstrap=True, ccp_alpha=0.0, class_weight=None,\n",
            "                       criterion='gini', max_depth=None, max_features='auto',\n",
            "                       max_leaf_nodes=None, max_samples=None,\n",
            "                       min_impurity_decrease=0.0, min_impurity_split=None,\n",
            "                       min_samples_leaf=1, min_samples_split=2,\n",
            "                       min_weight_fraction_leaf=0.0, n_estimators=100,\n",
            "                       n_jobs=None, oob_score=False, random_state=None,\n",
            "                       verbose=0, warm_start=False)\n",
            "Accuracy = 0.9347826086956522\n",
            "===========================\n",
            "Векторизация - CountVectorizer(analyzer='word', binary=False, decode_error='strict',\n",
            "                dtype=<class 'numpy.int64'>, encoding='utf-8', input='content',\n",
            "                lowercase=True, max_df=1.0, max_features=None, min_df=1,\n",
            "                ngram_range=(1, 1), preprocessor=None, stop_words=None,\n",
            "                strip_accents=None, token_pattern='(?u)\\\\b\\\\w\\\\w+\\\\b',\n",
            "                tokenizer=None,\n",
            "                vocabulary={'00': 0, '000': 1, '0000': 2, '00000000': 3,\n",
            "                            '...00000001b': 6,\n",
            "                            '00000010': 7, '00000010b': 8, '00000011': 9,\n",
            "                            '00000011b': 10, '0000001200': 11, '00000100': 12,\n",
            "                            '00000100b': 13, '00000101': 14, '00000101b': 15,\n",
            "                            '00000110': 16, '00000110b': 17, '00000111': 18,\n",
            "                            '00000111b': 19, '00001000': 20, '00001000b': 21,\n",
            "                            '00001001': 22, '00001001b': 23, '00001010': 24,\n",
            "                            '00001010b': 25, '00001011': 26, '00001011b': 27,\n",
            "                            '00001100': 28, '00001100b': 29, ...})\n",
            "Модель для классификации - ComplementNB(alpha=1.0, class_prior=None, fit_prior=True, norm=False)\n",
            "Accuracy = 0.9844202898550725\n",
            "===========================\n",
            "Векторизация - TfidfVectorizer(analyzer='word', binary=False, decode_error='strict',\n",
            "                dtype=<class 'numpy.float64'>, encoding='utf-8',\n",
            "                input='content', lowercase=True, max_df=1.0, max_features=None,\n",
            "                min_df=1, ngram_range=(1, 1), norm='l2', preprocessor=None,\n",
            "                smooth_idf=True, stop_words=None, strip_accents=None,\n",
            "                sublinear_tf=False, token_pattern='(?u)\\\\b\\\\w\\\\w+\\\\b',\n",
            "                tokenizer=None, use...\n",
            "                            '00000000b': 4, '00000001': 5, '00000001b': 6,\n",
            "                            '00000010': 7, '00000010b': 8, '00000011': 9,\n",
            "                            '00000011b': 10, '0000001200': 11, '00000100': 12,\n",
            "                            '00000100b': 13, '00000101': 14, '00000101b': 15,\n",
            "                            '00000110': 16, '00000110b': 17, '00000111': 18,\n",
            "                            '00000111b': 19, '00001000': 20, '00001000b': 21,\n",
            "                            '00001001': 22, '00001001b': 23, '00001010': 24,\n",
            "                            '00001010b': 25, '00001011': 26, '00001011b': 27,\n",
            "                            '00001100': 28, '00001100b': 29, ...})\n",
            "Модель для классификации - RandomForestClassifier(bootstrap=True, ccp_alpha=0.0, class_weight=None,\n",
            "                       criterion='gini', max_depth=None, max_features='auto',\n",
            "                       max_leaf_nodes=None, max_samples=None,\n",
            "                       min_impurity_decrease=0.0, min_impurity_split=None,\n",
            "                       min_samples_leaf=1, min_samples_split=2,\n",
            "                       min_weight_fraction_leaf=0.0, n_estimators=100,\n",
            "                       n_jobs=None, oob_score=False, random_state=None,\n",
            "                       verbose=0, warm_start=False)\n",
            "Accuracy = 0.9336956521739129\n",
            "===========================\n",
            "Векторизация - TfidfVectorizer(analyzer='word', binary=False, decode_error='strict',\n",
            "                dtype=<class 'numpy.float64'>, encoding='utf-8',\n",
            "                input='content', lowercase=True, max_df=1.0, max_features=None,\n",
            "                min_df=1, ngram_range=(1, 1), norm='l2', preprocessor=None,\n",
            "                smooth_idf=True, stop_words=None, strip_accents=None,\n",
            "                sublinear_tf=False, token_pattern='(?u)\\\\b\\\\w\\\\w+\\\\b',\n",
            "                tokenizer=None, use...\n",
            "                            '00000000b': 4, '00000001': 5, '00000001b': 6,\n",
            "                            '00000010': 7, '00000010b': 8, '00000011': 9,\n",
            "                            '00000011b': 10, '0000001200': 11, '00000100': 12,\n",
            "                            '00000100b': 13, '00000101': 14, '00000101b': 15,\n",
            "                            '00000110': 16, '00000110b': 17, '00000111': 18,\n",
            "                            '00000111b': 19, '00001000': 20, '00001000b': 21,\n",
            "                            '00001001': 22, '00001001b': 23, '00001010': 24,\n",
            "                            '00001010b': 25, '00001011': 26, '00001011b': 27,\n",
            "                            '00001100': 28, '00001100b': 29, ...})\n",
            "Модель для классификации - ComplementNB(alpha=1.0, class_prior=None, fit_prior=True, norm=False)\n",
            "Accuracy = 0.9746376811594203\n",
            "===========================\n"
          ],
          "name": "stdout"
        }
      ]
    },
    {
      "cell_type": "markdown",
      "metadata": {
        "id": "mPb1Iv7A1Cik"
      },
      "source": [
        "\n",
        "Лучшую точность показал CountVectorizer и ComplementNB"
      ]
    }
  ]
}